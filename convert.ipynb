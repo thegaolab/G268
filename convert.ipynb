{
 "cells": [
  {
   "cell_type": "code",
   "execution_count": 1,
   "metadata": {},
   "outputs": [],
   "source": [
    "FILE_NAME = 'G268_fpkm_all.txt'"
   ]
  },
  {
   "cell_type": "code",
   "execution_count": 6,
   "metadata": {
    "tags": [
     "outputPrepend"
    ]
   },
   "outputs": [
    {
     "output_type": "stream",
     "name": "stdout",
     "text": "0.0\n"
    }
   ],
   "source": [
    "all_fpkms = dict()\n",
    "with open(FILE_NAME, 'r') as fp:\n",
    "    is_first_line = True\n",
    "    for line in fp.readlines():\n",
    "        if is_first_line:\n",
    "            cells = line.split()\n",
    "            for c in cells:\n",
    "                all_fpkms[c] = dict()\n",
    "            is_first_line = False\n",
    "            continue\n",
    "        values = line.split()\n",
    "        for i, c in enumerate(cells):\n",
    "            all_fpkms[c][values[0]] = float(values[i+1])\n",
    "print(all_fpkms['COL04_ROW22_homo4_R2']['AUTS2'])"
   ]
  },
  {
   "cell_type": "code",
   "execution_count": 8,
   "metadata": {},
   "outputs": [],
   "source": [
    "all_tpms = dict()\n",
    "for k,v in all_fpkms.items():\n",
    "    if k not in all_tpms:\n",
    "        all_tpms[k] = dict()\n",
    "    sum_fpkm = sum(v.values())\n",
    "    for g, fpkm in v.items():\n",
    "        all_tpms[k][g] = fpkm*1000000.0/sum_fpkm\n"
   ]
  },
  {
   "cell_type": "code",
   "execution_count": 9,
   "metadata": {},
   "outputs": [],
   "source": [
    "# write tpm file\n",
    "tpm_file = 'G268_tpm_all.txt'\n",
    "cells = list(all_tpms.keys())\n",
    "head_line = '\\t' + '\\t'.join(cells) + '\\n'\n",
    "genes = list(all_tpms[cells[0]].keys())\n",
    "with open(tpm_file, 'w') as fp:\n",
    "    fp.write(head_line)\n",
    "    for g in genes:\n",
    "        tpms = [str(all_tpms[c][g]) for c in cells]\n",
    "        line = g + '\\t' + '\\t'.join(tpms) + '\\n'\n",
    "        fp.write(line)\n"
   ]
  },
  {
   "cell_type": "markdown",
   "metadata": {},
   "source": [
    "$$ \\begin{aligned} \\text{TPM}_i &= \\left( \\dfrac{\\text{FPKM}_i}{\\sum_j \\text{FPKM}_j } \\right) \\cdot 10^6 \\end{aligned}  $$\n"
   ]
  }
 ],
 "metadata": {
  "language_info": {
   "codemirror_mode": {
    "name": "ipython",
    "version": 3
   },
   "file_extension": ".py",
   "mimetype": "text/x-python",
   "name": "python",
   "nbconvert_exporter": "python",
   "pygments_lexer": "ipython3",
   "version": "3.6.10-final"
  },
  "orig_nbformat": 2,
  "kernelspec": {
   "name": "python37664bit8a2fcdebbe39484cb8cec154a61b1fda",
   "display_name": "Python 3.7.6 64-bit"
  }
 },
 "nbformat": 4,
 "nbformat_minor": 2
}